{
 "cells": [
  {
   "cell_type": "code",
   "execution_count": null,
   "metadata": {},
   "outputs": [],
   "source": [
    "class FakeTest:\n",
    "    def assertTrue(self, val):\n",
    "        print('PASS!' if val else 'FAIL!')"
   ]
  },
  {
   "cell_type": "code",
   "execution_count": 9,
   "metadata": {},
   "outputs": [],
   "source": [
    "class Page:\n",
    "    def __init__(self, app, test):\n",
    "        self.app = app\n",
    "        self.test = test or FakeTest()\n",
    "    \n",
    "    def get_page(self):\n",
    "        raise AssertionError('get_page not implemented.')\n",
    "    \n",
    "    def find_element_by_css_selector(self, css):\n",
    "        raise AssertionError('find_element_by_css_selector not implemented.')\n",
    "    \n",
    "    def has_html(self, css, text):\n",
    "        raise AssertionError('has_html not implemented.')\n",
    "    \n",
    "    #INPUTS\n",
    "    def get_input(self, label):\n",
    "        raise AssertionError('get_input not implemented.')\n",
    "    \n",
    "    #BUTTONS\n",
    "    def has_button(self, text):\n",
    "        raise AssertionError('has_button not implemented.')\n",
    "        \n",
    "    def click_button(self, text):\n",
    "        raise AssertionError('click_button not implemented.')\n",
    "    "
   ]
  }
 ],
 "metadata": {
  "kernelspec": {
   "display_name": "Python 3",
   "language": "python",
   "name": "python3"
  },
  "language_info": {
   "codemirror_mode": {
    "name": "ipython",
    "version": 3
   },
   "file_extension": ".py",
   "mimetype": "text/x-python",
   "name": "python",
   "nbconvert_exporter": "python",
   "pygments_lexer": "ipython3",
   "version": "3.6.3"
  }
 },
 "nbformat": 4,
 "nbformat_minor": 2
}
