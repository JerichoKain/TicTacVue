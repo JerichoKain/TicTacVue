{
 "cells": [
  {
   "cell_type": "code",
   "execution_count": 6,
   "metadata": {},
   "outputs": [],
   "source": [
    "if 'Component' not in locals():\n",
    "    %run Component.ipynb"
   ]
  },
  {
   "cell_type": "code",
   "execution_count": 8,
   "metadata": {},
   "outputs": [],
   "source": [
    "import time\n",
    "\n",
    "class Game(Component):\n",
    "    component = 'div.wrapper>div.game'\n",
    "    cells = 'NW,N,NE,W,C,E,SW,S,SE'.split(',')\n",
    "    def __init__(self, app, test):\n",
    "        super().__init__(app, test)\n",
    "    \n",
    "    def get_component(self):\n",
    "        return self.app._get_component(self.component)\n",
    "    \n",
    "    def find_element_by_css_selector(self, css):\n",
    "        return self.get_component().find_element_by_css_selector(css)\n",
    "    \n",
    "    def has_html(self, css, text):\n",
    "        self.test.assertTrue(self.app._css_has_text(self.get_component(), css, text))\n",
    "        \n",
    "    #HELPERS\n",
    "    def get_available_cells(self):\n",
    "        available = []\n",
    "        taken = ['cross', 'nought']\n",
    "        component = self.get_component()\n",
    "        for cell in self.cells:\n",
    "            css = '#{}'.format(cell)\n",
    "            elt = self.find_element_by_css_selector(css)\n",
    "            if elt is not None:\n",
    "                classes = elt.get_attribute('class')\n",
    "                if 'cross' not in classes and 'nought' not in classes:\n",
    "                    available.append(cell)\n",
    "        return available\n",
    "    \n",
    "    def get_cells_of_type(self, name):\n",
    "        of_type = []\n",
    "        if name not in ['cross', 'nought']:\n",
    "            raise AssertionError('cells can only be of type \"cross\" or \"nought\", not {}'.format(name))\n",
    "        for cell in self.cells:\n",
    "            css = '#{}'.format(cell)\n",
    "            elt = self.find_element_by_css_selector(css)\n",
    "            if elt is not None and name in elt.get_attribute('class'):\n",
    "                of_type.append(cell)\n",
    "        return of_type\n",
    "    \n",
    "    def click_cell(self, cell):\n",
    "        css = '#{}'.format(cell)\n",
    "        self.find_element_by_css_selector(css).click()\n",
    "        time.sleep(1)\n",
    "        "
   ]
  },
  {
   "cell_type": "code",
   "execution_count": null,
   "metadata": {},
   "outputs": [],
   "source": []
  }
 ],
 "metadata": {
  "kernelspec": {
   "display_name": "Python 3",
   "language": "python",
   "name": "python3"
  },
  "language_info": {
   "codemirror_mode": {
    "name": "ipython",
    "version": 3
   },
   "file_extension": ".py",
   "mimetype": "text/x-python",
   "name": "python",
   "nbconvert_exporter": "python",
   "pygments_lexer": "ipython3",
   "version": "3.6.3"
  }
 },
 "nbformat": 4,
 "nbformat_minor": 2
}
