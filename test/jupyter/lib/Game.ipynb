{
 "cells": [
  {
   "cell_type": "code",
   "execution_count": null,
   "metadata": {
    "collapsed": true
   },
   "outputs": [],
   "source": [
    "if 'Component' not in locals():\n",
    "    %run Component.ipynb"
   ]
  },
  {
   "cell_type": "code",
   "execution_count": null,
   "metadata": {
    "collapsed": true
   },
   "outputs": [],
   "source": [
    "import time\n",
    "\n",
    "class Game(Component):\n",
    "    #route = 'some/path'\n",
    "    component = 'div.wrapper>div.game'\n",
    "    cells = 'NW,N,NE,W,C,E,SW,S,SE'.split(',')\n",
    "    def __init__(self, app, test):\n",
    "        super().__init__(app, test)\n",
    "    \n",
    "    def get_component(self):\n",
    "        return self.app._get_component(self.component)\n",
    "    \n",
    "    def find_element_by_css_selector(self, css):\n",
    "        return self.get_component().find_element_by_css_selector(css)\n",
    "    \n",
    "    def has_html(self, css, text):\n",
    "        self.test.assertTrue(self.app._css_has_text(self.get_component(), css, text))\n",
    "        \n",
    "    #HELPERS\n",
    "    def get_available_cells(self):\n",
    "        available = []\n",
    "        component = get_component()\n",
    "        for cell in cells:\n",
    "            css = '#{}:not(.cross):not(.nought)'.format(cell)\n",
    "            if self.find_element_by_css_selector(css) is not None:\n",
    "                available.append(cell)\n",
    "        return available\n",
    "    \n",
    "    def get_cells_of_type(cell, name):\n",
    "        of_type = []\n",
    "        if name not in ['cross', 'nought']:\n",
    "            raise AssertionError('cells can only be of type \"cross\" or \"nought\", not {}'.format(name))\n",
    "        for cell in cells:\n",
    "            css = '#{}.{}'.format(cell, name)\n",
    "            if self.find_element_by_css_selector(css) is not None:\n",
    "                of_type.append(cell)\n",
    "        return of_type\n",
    "    \n",
    "    def click_cell(self, cell):\n",
    "        css = '#{}.{}'.format(cell)\n",
    "        self.find_element_by_css_selector(css).click()\n",
    "        time.sleep(1)\n",
    "        "
   ]
  },
  {
   "cell_type": "code",
   "execution_count": null,
   "metadata": {
    "collapsed": false
   },
   "outputs": [],
   "source": []
  }
 ],
 "metadata": {
  "kernelspec": {
   "display_name": "Python [default]",
   "language": "python",
   "name": "python3"
  },
  "language_info": {
   "codemirror_mode": {
    "name": "ipython",
    "version": 3
   },
   "file_extension": ".py",
   "mimetype": "text/x-python",
   "name": "python",
   "nbconvert_exporter": "python",
   "pygments_lexer": "ipython3",
   "version": "3.6.0"
  }
 },
 "nbformat": 4,
 "nbformat_minor": 2
}
