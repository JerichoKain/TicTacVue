{
 "cells": [
  {
   "cell_type": "code",
   "execution_count": 5,
   "metadata": {},
   "outputs": [],
   "source": [
    "%run ./Page.ipynb\n",
    "%run ./RegisterDevicePage.ipynb\n",
    "%run ./ContractsPage.ipynb\n",
    "%run ./GridComponent.ipynb"
   ]
  },
  {
   "cell_type": "code",
   "execution_count": 3,
   "metadata": {},
   "outputs": [],
   "source": [
    "import time\n",
    "import json\n",
    "from selenium import webdriver\n",
    "#from selenium.webdriver.support.ui import WebDriverWait\n",
    "#from selenium.webdriver.support import expected_conditions as EC \n",
    "\n",
    "class TicTatToeApp:\n",
    "    def __init__(self):\n",
    "        self.wd = webdriver.Chrome()\n",
    "        self.wd.get('https://jerichokain.github.io/TicTacVue')\n",
    "        #self.wd.get('http://127.0.0.1:8081/')\n",
    "        time.sleep(2) #gets cache and dom renders\n",
    "        self.pages = dict([(page.route, page) for page in Page.__subclasses__()])\n",
    "    \n",
    "    def __del__(self):\n",
    "        self.wd.close()\n",
    "    \n",
    "#     def _get_shadow_root(self, elt):\n",
    "#         return self.wd.execute_script('return arguments[0].shadowRoot', elt)\n",
    "    \n",
    "    def get_title(self):\n",
    "        elt = self.wd.find_element_by_tag_name('my-app')\n",
    "        return self._get_shadow_root(elt).find_element_by_id('main-title').text\n",
    "    \n",
    "    def get_page(self, test):\n",
    "        elt = self.wd.find_element_by_tag_name('my-app')\n",
    "        return self.pages[elt.get_attribute('page')](self, test)\n",
    "\n",
    "    def _get_component(self, page_component):\n",
    "        elt = self.wd.find_element_by_tag_name('my-app')\n",
    "        elt2 = self._get_shadow_root(elt)\n",
    "        elt3 = elt2.find_element_by_css_selector(page_component)\n",
    "        return self._get_shadow_root(elt3)\n",
    "                      \n",
    "    def _click_button(self, web_element, text):\n",
    "        buttons = web_element.find_elements_by_css_selector('paper-button')\n",
    "        for button in buttons:\n",
    "            if button.text == text:\n",
    "                button.click()\n",
    "                time.sleep(0.5)\n",
    "                return\n",
    "        raise AssertionError(f'No paper-button with text=\"{text}\" found. Available buttons are [{\", \".join([b.text for b in buttons])}].')\n",
    "    \n",
    "    def _css_has_text(self, web_element, css, text):\n",
    "        elts = filter(lambda e: 'display: none' not in [s.strip(' ') for s in e.get_attribute('style').split(';')], \n",
    "                      web_element.find_elements_by_css_selector(css))\n",
    "        texts = [e.text for e in elts]\n",
    "        if text in texts:\n",
    "            return True\n",
    "        raise AssertionError(f'No {css} with text=\"{text}\" found. Available matches are [{\", \".join(texts)}].')\n",
    "    \n",
    "    def _get_input_by_label(self, web_element, label):\n",
    "        elts = list(filter(lambda e: 'display: none' not in [s.strip(' ') for s in e.get_attribute('style').split(';')],\n",
    "                      web_element.find_elements_by_css_selector('paper-input')))\n",
    "        for elt in elts:\n",
    "            if elt.get_attribute('label') == label:\n",
    "                return elt\n",
    "        raise AssertionError(f'No paper-input with label=\"{label}\" found. Available inputs are [{\", \".join([e.get_attribute(\"label\") for e in elts])}].')\n",
    "    \n",
    "#mma = MaterialsMobileApp()"
   ]
  }
 ],
 "metadata": {
  "kernelspec": {
   "display_name": "Python 3",
   "language": "python",
   "name": "python3"
  },
  "language_info": {
   "codemirror_mode": {
    "name": "ipython",
    "version": 3
   },
   "file_extension": ".py",
   "mimetype": "text/x-python",
   "name": "python",
   "nbconvert_exporter": "python",
   "pygments_lexer": "ipython3",
   "version": "3.6.3"
  }
 },
 "nbformat": 4,
 "nbformat_minor": 2
}
