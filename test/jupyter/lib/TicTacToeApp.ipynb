{
 "cells": [
  {
   "cell_type": "code",
   "execution_count": 13,
   "metadata": {},
   "outputs": [],
   "source": [
    "%run ./Component.ipynb\n",
    "%run ./Game.ipynb\n",
    "%run ./Score.ipynb"
   ]
  },
  {
   "cell_type": "code",
   "execution_count": 20,
   "metadata": {},
   "outputs": [],
   "source": [
    "import time\n",
    "import json\n",
    "from selenium import webdriver\n",
    "#from selenium.webdriver.support.ui import WebDriverWait\n",
    "#from selenium.webdriver.support import expected_conditions as EC \n",
    "\n",
    "class TicTacToeApp:\n",
    "    def __init__(self):\n",
    "        self.wd = webdriver.Firefox(executable_path=r'C:\\Projects\\TicTacVue\\geckodriver.exe')\n",
    "        #self.wd = webdriver.Chrome('C:/Projects/TicTacVue/chromedriver.exe')\n",
    "        #self.wd.get('http://jerichokain.github.io/TicTacVue')\n",
    "        self.wd.get('http://127.0.0.1:8081/')\n",
    "        time.sleep(2) #gets cache and dom renders\n",
    "        self.components = dict([(component.__name__, component) for component in Component.__subclasses__()])\n",
    "    \n",
    "    def __del__(self):\n",
    "        self.wd.close()\n",
    "    \n",
    "#     def _get_shadow_root(self, elt):\n",
    "#         return self.wd.execute_script('return arguments[0].shadowRoot', elt)\n",
    "\n",
    "    def get_component(self, test, page_component):\n",
    "        return self.components[page_component](self, test)\n",
    "        \n",
    "    def _get_component(self, page_component):\n",
    "        elt = self.wd.find_element_by_id('app')\n",
    "        return elt.find_element_by_css_selector(page_component)\n",
    "        #this is for shadow roots / webcomponents in polymer\n",
    "        #elt2 = self._get_shadow_root(elt)\n",
    "        #elt3 = elt2.find_element_by_css_selector(page_component)\n",
    "        #return self._get_shadow_root(elt3)\n",
    "                      \n",
    "    def _css_has_text(self, web_element, css, text):\n",
    "        elts = filter(lambda e: 'display: none' not in [s.strip(' ') for s in e.get_attribute('style').split(';')], \n",
    "                      web_element.find_elements_by_css_selector(css))\n",
    "        texts = [e.text for e in elts]\n",
    "        if text in texts:\n",
    "            return True\n",
    "        raise AssertionError(f'No {css} with text=\"{text}\" found. Available matches are [{\", \".join(texts)}].')\n",
    "    \n",
    "#app = TicTacToeApp()"
   ]
  },
  {
   "cell_type": "code",
   "execution_count": 18,
   "metadata": {},
   "outputs": [
    {
     "name": "stdout",
     "output_type": "stream",
     "text": [
      "Game\n"
     ]
    }
   ],
   "source": []
  }
 ],
 "metadata": {
  "kernelspec": {
   "display_name": "Python 3",
   "language": "python",
   "name": "python3"
  },
  "language_info": {
   "codemirror_mode": {
    "name": "ipython",
    "version": 3
   },
   "file_extension": ".py",
   "mimetype": "text/x-python",
   "name": "python",
   "nbconvert_exporter": "python",
   "pygments_lexer": "ipython3",
   "version": "3.6.3"
  }
 },
 "nbformat": 4,
 "nbformat_minor": 2
}
