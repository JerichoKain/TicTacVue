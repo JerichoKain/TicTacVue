{
 "cells": [
  {
   "cell_type": "code",
   "execution_count": 2,
   "metadata": {
    "collapsed": true
   },
   "outputs": [],
   "source": [
    "%run ./Component.ipynb\n",
    "%run ./GridComponent.ipynb"
   ]
  },
  {
   "cell_type": "code",
   "execution_count": 1,
   "metadata": {
    "collapsed": false
   },
   "outputs": [
    {
     "ename": "ModuleNotFoundError",
     "evalue": "No module named 'selenium'",
     "output_type": "error",
     "traceback": [
      "\u001b[0;31m---------------------------------------------------------------------------\u001b[0m",
      "\u001b[0;31mModuleNotFoundError\u001b[0m                       Traceback (most recent call last)",
      "\u001b[0;32m<ipython-input-1-b26025dc23a5>\u001b[0m in \u001b[0;36m<module>\u001b[0;34m()\u001b[0m\n\u001b[1;32m      1\u001b[0m \u001b[0;32mimport\u001b[0m \u001b[0mtime\u001b[0m\u001b[0;34m\u001b[0m\u001b[0m\n\u001b[1;32m      2\u001b[0m \u001b[0;32mimport\u001b[0m \u001b[0mjson\u001b[0m\u001b[0;34m\u001b[0m\u001b[0m\n\u001b[0;32m----> 3\u001b[0;31m \u001b[0;32mfrom\u001b[0m \u001b[0mselenium\u001b[0m \u001b[0;32mimport\u001b[0m \u001b[0mwebdriver\u001b[0m\u001b[0;34m\u001b[0m\u001b[0m\n\u001b[0m\u001b[1;32m      4\u001b[0m \u001b[0;31m#from selenium.webdriver.support.ui import WebDriverWait\u001b[0m\u001b[0;34m\u001b[0m\u001b[0;34m\u001b[0m\u001b[0m\n\u001b[1;32m      5\u001b[0m \u001b[0;31m#from selenium.webdriver.support import expected_conditions as EC\u001b[0m\u001b[0;34m\u001b[0m\u001b[0;34m\u001b[0m\u001b[0m\n",
      "\u001b[0;31mModuleNotFoundError\u001b[0m: No module named 'selenium'"
     ]
    }
   ],
   "source": [
    "import time\n",
    "import json\n",
    "from selenium import webdriver\n",
    "#from selenium.webdriver.support.ui import WebDriverWait\n",
    "#from selenium.webdriver.support import expected_conditions as EC \n",
    "\n",
    "class TicTatToeApp:\n",
    "    def __init__(self):\n",
    "        self.wd = webdriver.Chrome()\n",
    "        self.wd.get('https://jerichokain.github.io/TicTacVue')\n",
    "        #self.wd.get('http://127.0.0.1:8081/')\n",
    "        time.sleep(2) #gets cache and dom renders\n",
    "        self.components = dict([(component.component, component) for component in Component.__subclasses__()])\n",
    "    \n",
    "    def __del__(self):\n",
    "        self.wd.close()\n",
    "    \n",
    "#     def _get_shadow_root(self, elt):\n",
    "#         return self.wd.execute_script('return arguments[0].shadowRoot', elt)\n",
    "\n",
    "    def _get_component(self, page_component):\n",
    "        elt = self.wd.find_element_by_id('app')\n",
    "        #elt2 = self._get_shadow_root(elt)\n",
    "        elt2 = elt.find_element_by_css_selector(page_component)\n",
    "        return self._get_shadow_root(elt3)\n",
    "                      \n",
    "    def _css_has_text(self, web_element, css, text):\n",
    "        elts = filter(lambda e: 'display: none' not in [s.strip(' ') for s in e.get_attribute('style').split(';')], \n",
    "                      web_element.find_elements_by_css_selector(css))\n",
    "        texts = [e.text for e in elts]\n",
    "        if text in texts:\n",
    "            return True\n",
    "        raise AssertionError(f'No {css} with text=\"{text}\" found. Available matches are [{\", \".join(texts)}].')\n",
    "    \n",
    "#app = TicTacToeApp()"
   ]
  }
 ],
 "metadata": {
  "kernelspec": {
   "display_name": "Python [default]",
   "language": "python",
   "name": "python3"
  },
  "language_info": {
   "codemirror_mode": {
    "name": "ipython",
    "version": 3
   },
   "file_extension": ".py",
   "mimetype": "text/x-python",
   "name": "python",
   "nbconvert_exporter": "python",
   "pygments_lexer": "ipython3",
   "version": "3.6.0"
  }
 },
 "nbformat": 4,
 "nbformat_minor": 2
}
