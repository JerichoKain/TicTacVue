{
 "cells": [
  {
   "cell_type": "code",
   "execution_count": null,
   "metadata": {
    "collapsed": true
   },
   "outputs": [],
   "source": [
    "class FakeTest:\n",
    "    def assertTrue(self, val):\n",
    "        print('PASS!' if val else 'FAIL!')"
   ]
  },
  {
   "cell_type": "code",
   "execution_count": null,
   "metadata": {
    "collapsed": true
   },
   "outputs": [],
   "source": [
    "class Component:\n",
    "    def __init__(self, app, test):\n",
    "        self.app = app\n",
    "        self.test = test or FakeTest()\n",
    "    \n",
    "    def get_component(self):\n",
    "        raise AssertionError('get_component not implemented')\n",
    "    \n",
    "    def find_element_by_css_selector(self, css):\n",
    "        raise AssertionError('find_element_by_css_selector not implemented')\n",
    "    \n",
    "    def has_html(self, css, text):\n",
    "        raise AssertionError('has_html not implemented')\n",
    "    "
   ]
  }
 ],
 "metadata": {
  "kernelspec": {
   "display_name": "Python [default]",
   "language": "python",
   "name": "python3"
  },
  "language_info": {
   "codemirror_mode": {
    "name": "ipython",
    "version": 3
   },
   "file_extension": ".py",
   "mimetype": "text/x-python",
   "name": "python",
   "nbconvert_exporter": "python",
   "pygments_lexer": "ipython3",
   "version": "3.6.0"
  }
 },
 "nbformat": 4,
 "nbformat_minor": 2
}
