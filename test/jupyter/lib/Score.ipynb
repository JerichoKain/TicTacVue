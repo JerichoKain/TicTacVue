{
 "cells": [
  {
   "cell_type": "code",
   "execution_count": null,
   "metadata": {
    "collapsed": true
   },
   "outputs": [],
   "source": [
    "if 'Component' not in locals():\n",
    "    %run Component.ipynb"
   ]
  },
  {
   "cell_type": "code",
   "execution_count": null,
   "metadata": {
    "collapsed": false
   },
   "outputs": [],
   "source": [
    "import time\n",
    "\n",
    "class Score(Component):\n",
    "    #route = 'some/path'\n",
    "    component = 'div.score'\n",
    "    def __init__(self, app, test):\n",
    "        super().__init__(app, test)\n",
    "    \n",
    "    def get_component(self):\n",
    "        return self.app._get_component(self.component)\n",
    "    \n",
    "    def find_element_by_css_selector(self, css):\n",
    "        return self.get_component().find_element_by_css_selector(css)\n",
    "    \n",
    "    def has_html(self, css, text):\n",
    "        self.test.assertTrue(self.app._css_has_text(self.get_component(), css, text))\n",
    "        \n",
    "    #HELPERS\n",
    "    def has_score_of_type(self, score, name):\n",
    "        of_type = []\n",
    "        if name not in ['Wins', 'Loses', 'Draws']:\n",
    "            raise AssertionError('cells can only be of type \"Wins\", \"Loses\", \"Draws\", not {}'.format(name))\n",
    "        self.has_html('span', '{} {}'.format(score, name))\n",
    "        "
   ]
  },
  {
   "cell_type": "code",
   "execution_count": null,
   "metadata": {
    "collapsed": false
   },
   "outputs": [],
   "source": []
  }
 ],
 "metadata": {
  "kernelspec": {
   "display_name": "Python [default]",
   "language": "python",
   "name": "python3"
  },
  "language_info": {
   "codemirror_mode": {
    "name": "ipython",
    "version": 3
   },
   "file_extension": ".py",
   "mimetype": "text/x-python",
   "name": "python",
   "nbconvert_exporter": "python",
   "pygments_lexer": "ipython3",
   "version": "3.6.0"
  }
 },
 "nbformat": 4,
 "nbformat_minor": 2
}
