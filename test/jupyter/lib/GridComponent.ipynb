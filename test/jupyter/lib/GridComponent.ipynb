{
 "cells": [
  {
   "cell_type": "code",
   "execution_count": 1,
   "metadata": {},
   "outputs": [],
   "source": [
    "if 'Page' not in locals():\n",
    "    %run Page.ipynb"
   ]
  },
  {
   "cell_type": "code",
   "execution_count": 2,
   "metadata": {},
   "outputs": [],
   "source": [
    "class GridComponent(Page):\n",
    "    route = 'materials'\n",
    "    component = 'materials-view'\n",
    "    def __init__(self, app, test):\n",
    "        super().__init__(app, test)\n",
    "    \n",
    "    def get_page(self):\n",
    "        return self.app._get_component(self.component).find_element_by_css_selector('div.content')\n",
    "    \n",
    "    def find_element_by_css_selector(self, css):\n",
    "        return self.get_page().find_element_by_css_selector(css)\n",
    "    \n",
    "    def has_html(self, css, text):\n",
    "        self.test.assertTrue(self.mma._css_has_text(self.get_page(), css, text))\n",
    "    \n",
    "    #INPUTS\n",
    "    def get_input(self, label):\n",
    "        #return self.app._get_input_by_label(self.get_page(), label)\n",
    "        raise AssertionError('get_input not implemented.')\n",
    "    \n",
    "    #BUTTONS\n",
    "    def has_button(self, text):\n",
    "        #self.has_html('paper-button', text)\n",
    "        raise AssertionError('has_button not implemented.')\n",
    "        \n",
    "    def click_button(self, text):\n",
    "        #self.app._click_button(self.get_page(), text)\n",
    "        raise AssertionError('click_button not implemented.')\n"
   ]
  },
  {
   "cell_type": "code",
   "execution_count": null,
   "metadata": {},
   "outputs": [],
   "source": []
  }
 ],
 "metadata": {
  "kernelspec": {
   "display_name": "Python 3",
   "language": "python",
   "name": "python3"
  },
  "language_info": {
   "codemirror_mode": {
    "name": "ipython",
    "version": 3
   },
   "file_extension": ".py",
   "mimetype": "text/x-python",
   "name": "python",
   "nbconvert_exporter": "python",
   "pygments_lexer": "ipython3",
   "version": "3.6.3"
  }
 },
 "nbformat": 4,
 "nbformat_minor": 2
}
