{
 "cells": [
  {
   "cell_type": "markdown",
   "metadata": {},
   "source": [
    "If you have not already done so, install selenium with the command ```pip install selenium```"
   ]
  },
  {
   "cell_type": "code",
   "execution_count": 1,
   "metadata": {},
   "outputs": [
    {
     "name": "stdout",
     "output_type": "stream",
     "text": [
      "C:\\Projects\\MaterialsMobileApp\\test\\Selenium\\lib\n",
      "C:\\Projects\\MaterialsMobileApp\\test\\Selenium\n",
      "popd -> C:\\Projects\\MaterialsMobileApp\\test\\Selenium\n"
     ]
    }
   ],
   "source": [
    "%pushd lib\n",
    "%run TicTacToeApp.ipynb\n",
    "%popd"
   ]
  },
  {
   "cell_type": "markdown",
   "metadata": {},
   "source": [
    "Opening a webdriver for to the dev testing address"
   ]
  },
  {
   "cell_type": "code",
   "execution_count": 2,
   "metadata": {},
   "outputs": [],
   "source": [
    "import unittest\n",
    "import time\n",
    "from datetime import date\n",
    "from selenium.common.exceptions import NoSuchElementException\n",
    "\n",
    "class AddRecord(unittest.TestCase):\n",
    "    def test_00_init(self):\n",
    "        self.assertEqual(mma.get_title(), 'Queue')\n",
    "        page = app.get_page(self)\n",
    "        page.click_box('N')\n",
    "        page.crosses_square('N')\n",
    "        list_item = page.find_element_by_css_selector('paper-item:not(.title)')\n",
    "        self.assertTrue(contract['name'] in list_item.text)        \n",
    "        self.assertTrue(contract['descr'] in list_item.text)\n",
    "        self.assertTrue(contract['loc'] in list_item.text)\n",
    "        list_item.click()\n",
    "        time.sleep(0.5)\n",
    "        self.assertEqual(mma.get_title(), contract['name'])\n",
    "        mma.click_back_arrow()\n",
    "        page = mma.get_page(self)\n",
    "        "
   ]
  },
  {
   "cell_type": "code",
   "execution_count": 3,
   "metadata": {},
   "outputs": [
    {
     "name": "stderr",
     "output_type": "stream",
     "text": [
      "......\n",
      "----------------------------------------------------------------------\n",
      "Ran 6 tests in 26.698s\n",
      "\n",
      "OK\n"
     ]
    }
   ],
   "source": [
    "if __name__ == '__main__':\n",
    "    data = {\n",
    "        'wins': 0,\n",
    "        'loses': 0,\n",
    "        'draws': 0,\n",
    "        'crosses': [],\n",
    "        'noughts': [],\n",
    "    }\n",
    "    app = TicTacToeApp()\n",
    "    mma.wd.execute_script('localStorage.clear()')\n",
    "    mma.click_queue_in_footer()\n",
    "    #argv and exit are set because jupyter\n",
    "    unittest.main(argv=['first-arg-is-ignored'], exit=False)\n",
    "    del mma"
   ]
  },
  {
   "cell_type": "code",
   "execution_count": null,
   "metadata": {},
   "outputs": [],
   "source": [
    "# app = TicTacToeApp()\n",
    "# page = app.get_page(None)\n",
    "# page.has_square('N')\n",
    "# del page"
   ]
  }
 ],
 "metadata": {
  "kernelspec": {
   "display_name": "Python 3",
   "language": "python",
   "name": "python3"
  },
  "language_info": {
   "codemirror_mode": {
    "name": "ipython",
    "version": 3
   },
   "file_extension": ".py",
   "mimetype": "text/x-python",
   "name": "python",
   "nbconvert_exporter": "python",
   "pygments_lexer": "ipython3",
   "version": "3.6.3"
  }
 },
 "nbformat": 4,
 "nbformat_minor": 2
}
