{
 "cells": [
  {
   "cell_type": "markdown",
   "metadata": {},
   "source": [
    "If you have not already done so, install selenium with the command ```pip install selenium```"
   ]
  },
  {
   "cell_type": "code",
   "execution_count": null,
   "metadata": {
    "collapsed": false
   },
   "outputs": [],
   "source": [
    "%pushd lib\n",
    "%run TicTacToeApp.ipynb\n",
    "%popd"
   ]
  },
  {
   "cell_type": "markdown",
   "metadata": {},
   "source": [
    "Open a webdriver for to correct address (local)"
   ]
  },
  {
   "cell_type": "code",
   "execution_count": null,
   "metadata": {
    "collapsed": true
   },
   "outputs": [],
   "source": [
    "import unittest\n",
    "import time\n",
    "from datetime import date\n",
    "from selenium.common.exceptions import NoSuchElementException\n",
    "\n",
    "class Winner(unittest.TestCase):\n",
    "    def test_00_init(self):\n",
    "        comp = app.get_component(self, \"Game\")\n",
    "        self.assertEqual(len(comp.get_available_cells()), 9)\n",
    "                         \n",
    "    def test_01_cross_takes_NW(self):\n",
    "        comp = app.get_component(self, \"Game\")\n",
    "        comp.click_cell('NW')\n",
    "        data['crosses'] = comp.get_cells_of_type('cross')\n",
    "        self.assertEqual(len(data['crosses']), 1)\n",
    "        self.assertTrue('NW' in data['crosses'])\n",
    "        data['noughts'] = comp.get_cells_of_type('nought')\n",
    "        self.assertEqual(len(data['noughts']), 1)\n",
    "        self.assertTrue('C' in data['noughts'])\n",
    "    \n",
    "    def test_02_cross_takes_SE(self):\n",
    "        comp = app.get_component(self, \"Game\")\n",
    "        comp.click_cell('SE')\n",
    "        data['crosses'] = comp.get_cells_of_type('cross')\n",
    "        self.assertEqual(len(data['crosses']), 2)\n",
    "        self.assertTrue('SE' in data['crosses'])\n",
    "        data['noughts'] = comp.get_cells_of_type('nought')\n",
    "        self.assertEqual(len(data['noughts']), 2)\n",
    "        new_nought = filter(lambda c: len(c) > 1, data['noughts'])\n",
    "        self.assertEqual(len(new_nought), 1)\n",
    "        self.assertTrue(new_nought[0] in ['NE', 'SW']) #BUG?\n",
    "    \n",
    "    def test_03_cross_takes_open_corner_and_win_game(self):\n",
    "        comp = app.get_component(self, \"Game\")\n",
    "        available = comp.get_available_cells()\n",
    "        corner = [a for a in available if len(a) > 1][0]\n",
    "        comp.click_cell(corner)\n",
    "        data['crosses'] = comp.get_cells_of_type('cross')\n",
    "        self.assertEqual(len(data['crosses']), 3)\n",
    "        data['noughts'] = comp.get_cells_of_type('nought')\n",
    "        self.assertEqual(len(data['noughts']), 3)\n",
    "        winning_moves = corner.split('')\n",
    "        available = comp.get_available_cells()\n",
    "        next_move = winning_moves[0] if winning_moves[0] in available else winning_moves[1]\n",
    "        comp.click_cell(next_move)\n",
    "    \n",
    "    def test_04_score_updated_and_game_cleared(self):\n",
    "        comp = app.get_component(self, \"Score\")\n",
    "        comp.has_score_of_type(1, \"Wins\")\n",
    "        comp.has_score_of_type(0, \"Loses\")\n",
    "        comp.has_score_of_type(0, \"Draws\")\n",
    "        \n",
    "        comp = app.get_component(self, \"Game\")\n",
    "        self.assertEqual(len(comp.get_available_cells()), 9)"
   ]
  },
  {
   "cell_type": "code",
   "execution_count": null,
   "metadata": {
    "collapsed": false
   },
   "outputs": [],
   "source": [
    "if __name__ == '__main__':\n",
    "    data = {\n",
    "        'crosses': [],\n",
    "        'noughts': [],\n",
    "    }\n",
    "    app = TicTacToeApp()\n",
    "    mma.wd.execute_script('localStorage.clear()')\n",
    "    #argv and exit are set because jupyter\n",
    "    unittest.main(argv=['first-arg-is-ignored'], exit=False)\n",
    "    del mma"
   ]
  },
  {
   "cell_type": "code",
   "execution_count": null,
   "metadata": {
    "collapsed": true
   },
   "outputs": [],
   "source": [
    "# app = TicTacToeApp()\n",
    "# comp = app.get_component(None)\n",
    "# print(comp.get_available_cells())\n",
    "# del comp\n",
    "# del app"
   ]
  }
 ],
 "metadata": {
  "kernelspec": {
   "display_name": "Python [default]",
   "language": "python",
   "name": "python3"
  },
  "language_info": {
   "codemirror_mode": {
    "name": "ipython",
    "version": 3
   },
   "file_extension": ".py",
   "mimetype": "text/x-python",
   "name": "python",
   "nbconvert_exporter": "python",
   "pygments_lexer": "ipython3",
   "version": "3.6.0"
  }
 },
 "nbformat": 4,
 "nbformat_minor": 2
}
